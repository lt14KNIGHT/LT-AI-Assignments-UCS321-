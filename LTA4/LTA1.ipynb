{
  "nbformat": 4,
  "nbformat_minor": 0,
  "metadata": {
    "colab": {
      "provenance": []
    },
    "kernelspec": {
      "name": "python3",
      "display_name": "Python 3"
    },
    "language_info": {
      "name": "python"
    }
  },
  "cells": [
    {
      "cell_type": "code",
      "source": [
        "#Q1\n",
        "import numpy as np\n",
        "arr1 = np.arange(10, 51, 5)\n",
        "print(\"Array is \", arr1)\n",
        "print(\"Shape is \", arr1.shape)\n",
        "print(\"Size is \", arr1.size)\n",
        "print(\"Data type is \", arr1.dtype)"
      ],
      "metadata": {
        "id": "Jyi87Qd7X5C7",
        "colab": {
          "base_uri": "https://localhost:8080/"
        },
        "outputId": "17029170-cbc1-4aeb-d89d-6ab3cbfc0694"
      },
      "execution_count": 1,
      "outputs": [
        {
          "output_type": "stream",
          "name": "stdout",
          "text": [
            "Array: [10 15 20 25 30 35 40 45 50]\n",
            "Shape: (9,)\n",
            "Size: 9\n",
            "Data type: int64\n"
          ]
        }
      ]
    },
    {
      "cell_type": "code",
      "source": [
        "#Q2\n",
        "arr2 = np.random.randint(1, 101, size=(4, 5))\n",
        "print(\"\\nRandom 4x5 matrix:\\n\", arr2)\n",
        "print(\"Max value:\", arr2.max(), \"at index\", np.unravel_index(arr2.argmax(), arr2.shape))\n",
        "print(\"Min value:\", arr2.min(), \"at index\", np.unravel_index(arr2.argmin(), arr2.shape))"
      ],
      "metadata": {
        "colab": {
          "base_uri": "https://localhost:8080/"
        },
        "id": "fipq13oRYO5B",
        "outputId": "c558a490-e94a-47ab-85bc-c73d712ca735"
      },
      "execution_count": 23,
      "outputs": [
        {
          "output_type": "stream",
          "name": "stdout",
          "text": [
            "\n",
            "Random 4x5 matrix:\n",
            " [[36 50 45 83 81]\n",
            " [ 4 66 86 31 80]\n",
            " [40 90 14 68 75]\n",
            " [16 82 58 75 30]]\n",
            "Max value: 90 at index (np.int64(2), np.int64(1))\n",
            "Min value: 4 at index (np.int64(1), np.int64(0))\n"
          ]
        }
      ]
    },
    {
      "cell_type": "code",
      "source": [
        "#Q3\n",
        "arr3 = np.arange(1, 25)\n",
        "mat3 = arr3.reshape(4, 6)\n",
        "print(\"Reshaped 4x6 matrix is \\n\", mat3)\n",
        "print(\"2nd row is \", mat3[1])\n",
        "print(\"3rd column is \", mat3[:, 2])"
      ],
      "metadata": {
        "colab": {
          "base_uri": "https://localhost:8080/"
        },
        "id": "-CmMdpNwYS9o",
        "outputId": "5fd2da65-7025-42b4-bf11-24979c35250b"
      },
      "execution_count": 13,
      "outputs": [
        {
          "output_type": "stream",
          "name": "stdout",
          "text": [
            "Reshaped 4x6 Matrix is \n",
            " [[ 1  2  3  4  5  6]\n",
            " [ 7  8  9 10 11 12]\n",
            " [13 14 15 16 17 18]\n",
            " [19 20 21 22 23 24]]\n",
            "2nd row is  [ 7  8  9 10 11 12]\n",
            "3rd column is  [ 3  9 15 21]\n"
          ]
        }
      ]
    },
    {
      "cell_type": "code",
      "source": [
        "#Q4\n",
        "arr4 = np.random.randint(0, 51, size=15)\n",
        "print(\"Original array is \", arr4)\n",
        "arr4[arr4 > 25] = -1\n",
        "print(\"Modified array is \", arr4)"
      ],
      "metadata": {
        "colab": {
          "base_uri": "https://localhost:8080/"
        },
        "id": "eHFnMI_sYrUX",
        "outputId": "8a09c8cb-8f85-440a-f472-7dd897b24135"
      },
      "execution_count": 14,
      "outputs": [
        {
          "output_type": "stream",
          "name": "stdout",
          "text": [
            "Original Array is  [ 7 24 28  0 41 35 34 18 24  9 20 26 39 49 49]\n",
            "Modified Array: [ 7 24 -1  0 -1 -1 -1 18 24  9 20 -1 -1 -1 -1]\n"
          ]
        }
      ]
    },
    {
      "cell_type": "code",
      "source": [
        "#Q5\n",
        "a = np.array([1, 2, 3, 4, 5])\n",
        "b = np.array([10, 20, 30, 40, 50])\n",
        "print(\"Addition is \", a + b)\n",
        "print(\"Subtraction is \", a - b)\n",
        "print(\"Multiplication is \", a * b)\n",
        "print(\"Division is \", a / b)"
      ],
      "metadata": {
        "colab": {
          "base_uri": "https://localhost:8080/"
        },
        "id": "7f-mmzBmYtXK",
        "outputId": "59028cb4-9ce1-4bc6-b84c-9f7f035333d4"
      },
      "execution_count": 15,
      "outputs": [
        {
          "output_type": "stream",
          "name": "stdout",
          "text": [
            "Addition is  [11 22 33 44 55]\n",
            "Subtraction is  [ -9 -18 -27 -36 -45]\n",
            "Multiplication is  [ 10  40  90 160 250]\n",
            "Division is  [0.1 0.1 0.1 0.1 0.1]\n"
          ]
        }
      ]
    },
    {
      "cell_type": "code",
      "source": [
        "#Q6\n",
        "arr6 = np.random.rand(5, 5)\n",
        "print(\"5x5 Random Float Matrix is \\n\", arr6)\n",
        "print(\"Mean is \", np.mean(arr6))\n",
        "print(\"Median is \", np.median(arr6))\n",
        "print(\"Variance is \", np.var(arr6))\n",
        "print(\"Standard Deviation is \", np.std(arr6))"
      ],
      "metadata": {
        "colab": {
          "base_uri": "https://localhost:8080/"
        },
        "id": "pQYSQjkSYvd7",
        "outputId": "a767c362-b375-415a-c346-d223aad53cf4"
      },
      "execution_count": 17,
      "outputs": [
        {
          "output_type": "stream",
          "name": "stdout",
          "text": [
            "5x5 Random Float Matrix is \n",
            " [[0.86651155 0.45139775 0.46998732 0.7221337  0.66613268]\n",
            " [0.78813337 0.58700702 0.80548633 0.02076555 0.55664123]\n",
            " [0.35996756 0.73446448 0.1234833  0.61182091 0.03937488]\n",
            " [0.27649058 0.27447835 0.23272323 0.04263881 0.45853162]\n",
            " [0.95036844 0.54579692 0.46642162 0.30450598 0.80031872]]\n",
            "Mean is  0.48622327678392596\n",
            "Median is  0.4699873180525821\n",
            "Variance is  0.07140895950154294\n",
            "Standard Deviation is  0.2672245488377573\n"
          ]
        }
      ]
    },
    {
      "cell_type": "code",
      "source": [
        "#Q7\n",
        "A = np.arange(1, 7).reshape(3, 2)\n",
        "B = np.arange(7, 13).reshape(2, 3)\n",
        "result = A @ B\n",
        "print(\"Matrix A is \\n\", A)\n",
        "print(\"Matrix B is \\n\", B)\n",
        "print(\"Matrix multiplication result is \\n\", result)"
      ],
      "metadata": {
        "colab": {
          "base_uri": "https://localhost:8080/"
        },
        "id": "foYsB9tNYxKu",
        "outputId": "406ef4fd-0682-4f16-8f63-62249fe0cef7"
      },
      "execution_count": 18,
      "outputs": [
        {
          "output_type": "stream",
          "name": "stdout",
          "text": [
            "Matrix A is \n",
            " [[1 2]\n",
            " [3 4]\n",
            " [5 6]]\n",
            "Matrix B is \n",
            " [[ 7  8  9]\n",
            " [10 11 12]]\n",
            "Matrix multiplication result is \n",
            " [[ 27  30  33]\n",
            " [ 61  68  75]\n",
            " [ 95 106 117]]\n"
          ]
        }
      ]
    },
    {
      "cell_type": "code",
      "source": [
        "#Q8\n",
        "arr8 = np.arange(1, 37).reshape(6, 6)\n",
        "print(\"Original 6x6 matrix is \\n\", arr8)\n",
        "arr8[1:4, 1:4] = 0\n",
        "print(\"Modified Matrix is \\n\", arr8)"
      ],
      "metadata": {
        "colab": {
          "base_uri": "https://localhost:8080/"
        },
        "id": "CQIkdltyY0PP",
        "outputId": "49b72718-9322-4eb6-d6f3-6e279057c8fe"
      },
      "execution_count": 20,
      "outputs": [
        {
          "output_type": "stream",
          "name": "stdout",
          "text": [
            "Original 6x6 matrix is \n",
            " [[ 1  2  3  4  5  6]\n",
            " [ 7  8  9 10 11 12]\n",
            " [13 14 15 16 17 18]\n",
            " [19 20 21 22 23 24]\n",
            " [25 26 27 28 29 30]\n",
            " [31 32 33 34 35 36]]\n",
            "Modified Matrix is \n",
            " [[ 1  2  3  4  5  6]\n",
            " [ 7  0  0  0 11 12]\n",
            " [13  0  0  0 17 18]\n",
            " [19  0  0  0 23 24]\n",
            " [25 26 27 28 29 30]\n",
            " [31 32 33 34 35 36]]\n"
          ]
        }
      ]
    },
    {
      "cell_type": "code",
      "source": [
        "#Q9\n",
        "arr9 = np.array([5, 10, 15, 20, 25])\n",
        "modified9 = np.where(arr9 > 15, 99, 0)\n",
        "print(\"Original array is \", arr9)\n",
        "print(\"Modified array is \", modified9)"
      ],
      "metadata": {
        "colab": {
          "base_uri": "https://localhost:8080/"
        },
        "id": "orhB_2d9Y2Hn",
        "outputId": "2e6732ce-1e5c-49a5-d8f5-c85fe89b6d73"
      },
      "execution_count": 21,
      "outputs": [
        {
          "output_type": "stream",
          "name": "stdout",
          "text": [
            "Original array is  [ 5 10 15 20 25]\n",
            "Modified array is  [ 0  0  0 99 99]\n"
          ]
        }
      ]
    },
    {
      "cell_type": "code",
      "source": [
        "#Q10\n",
        "arr10 = np.full((4, 4), 10)\n",
        "sub = np.array([0, 1, 2, 3])\n",
        "result10 = arr10 - sub\n",
        "print(\"Original 4x4 array is \\n\", arr10)\n",
        "print(\"Result after broadcasting is \\n\", result10)"
      ],
      "metadata": {
        "colab": {
          "base_uri": "https://localhost:8080/"
        },
        "id": "mxu8e23pY4C8",
        "outputId": "310b0a27-0e93-4dca-d979-d77067947281"
      },
      "execution_count": 22,
      "outputs": [
        {
          "output_type": "stream",
          "name": "stdout",
          "text": [
            "Original 4x4 array is \n",
            " [[10 10 10 10]\n",
            " [10 10 10 10]\n",
            " [10 10 10 10]\n",
            " [10 10 10 10]]\n",
            "Result after broadcasting is \n",
            " [[10  9  8  7]\n",
            " [10  9  8  7]\n",
            " [10  9  8  7]\n",
            " [10  9  8  7]]\n"
          ]
        }
      ]
    }
  ]
}