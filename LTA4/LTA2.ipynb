{
 "cells": [
  {
   "cell_type": "code",
   "execution_count": null,
   "id": "fe6a7fe7-7238-46f9-9157-b3f8d1004c09",
   "metadata": {},
   "outputs": [],
   "source": [
    "#Q1\n",
    "import numpy as np\n",
    "\n",
    "arr = np.arange(10, 51, 5)\n",
    "print(\"Array:\", arr)\n",
    "print(\"Shape:\", arr.shape)\n",
    "print(\"Size:\", arr.size)\n",
    "print(\"Dtype:\", arr.dtype)"
   ]
  },
  {
   "cell_type": "code",
   "execution_count": null,
   "id": "d0c5cc65-26be-4b90-afaf-65eedc2c66b2",
   "metadata": {},
   "outputs": [],
   "source": [
    "#Q2\n",
    "import numpy as np\n",
    "\n",
    "rng = np.random.default_rng(seed=42)\n",
    "mat = rng.integers(low=1, high=101, size=(4, 5))\n",
    "print(\"Matrix:\\n\", mat)\n",
    "\n",
    "max_val = mat.max()\n",
    "min_val = mat.min()\n",
    "max_idx = np.unravel_index(mat.argmax(), mat.shape)\n",
    "min_idx = np.unravel_index(mat.argmin(), mat.shape)\n",
    "\n",
    "print(\"Max value:\", max_val, \"at index:\", max_idx)\n",
    "print(\"Min value:\", min_val, \"at index:\", min_idx)"
   ]
  },
  {
   "cell_type": "code",
   "execution_count": null,
   "id": "ccfcde5d-4db2-4100-8e98-98ec40899a8f",
   "metadata": {},
   "outputs": [],
   "source": [
    "#Q3\n",
    "import numpy as np\n",
    "\n",
    "arr = np.arange(1, 25)\n",
    "mat = arr.reshape(4, 6)\n",
    "second_row = mat[1, :]\n",
    "third_col = mat[:, 2]\n",
    "\n",
    "print(\"Matrix:\\n\", mat)\n",
    "print(\"2nd row:\", second_row)\n",
    "print(\"3rd column:\", third_col)"
   ]
  },
  {
   "cell_type": "code",
   "execution_count": null,
   "id": "a4d0ce35-a0fd-4ed2-86c5-4b841831f575",
   "metadata": {},
   "outputs": [],
   "source": [
    "#Q4\n",
    "import numpy as np\n",
    "\n",
    "rng = np.random.default_rng(seed=0)\n",
    "arr = rng.integers(0, 51, size=15)\n",
    "print(\"Original:\", arr)\n",
    "mask = arr > 25\n",
    "arr[mask] = -1\n",
    "print(\"Modified:\", arr)"
   ]
  },
  {
   "cell_type": "code",
   "execution_count": null,
   "id": "4337b7fe-2333-4cd6-af04-e16d19899ed1",
   "metadata": {},
   "outputs": [],
   "source": [
    "#Q5\n",
    "import numpy as np\n",
    "\n",
    "a = np.array([1, 2, 3, 4, 5])\n",
    "b = np.array([10, 20, 30, 40, 50])\n",
    "\n",
    "print(\"Addition:\", a + b)\n",
    "print(\"Subtraction:\", a - b)\n",
    "print(\"Multiplication:\", a * b)\n",
    "print(\"Division:\", a / b)"
   ]
  },
  {
   "cell_type": "code",
   "execution_count": null,
   "id": "e6b4a3d2-d39c-437d-b389-5baa5f5cb716",
   "metadata": {},
   "outputs": [],
   "source": [
    "#Q6\n",
    "import numpy as np\n",
    "\n",
    "rng = np.random.default_rng(seed=123)\n",
    "mat = rng.random((5, 5))\n",
    "print(\"Matrix:\\n\", mat)\n",
    "\n",
    "mean = mat.mean()\n",
    "median = np.median(mat)\n",
    "variance = mat.var()\n",
    "std_dev = mat.std()\n",
    "\n",
    "print(\"Mean:\", mean)\n",
    "print(\"Median:\", median)\n",
    "print(\"Variance:\", variance)\n",
    "print(\"Std Dev:\", std_dev)"
   ]
  },
  {
   "cell_type": "code",
   "execution_count": null,
   "id": "d6653e76-61c0-4355-8997-658a3b47955f",
   "metadata": {},
   "outputs": [],
   "source": [
    "#Q7\n",
    "import numpy as np\n",
    "\n",
    "A = np.arange(1, 7).reshape(3, 2)\n",
    "B = np.arange(7, 13).reshape(2, 3)\n",
    "C = A @ B\n",
    "print(\"A:\\n\", A)\n",
    "print(\"B:\\n\", B)\n",
    "print(\"A @ B:\\n\", C)"
   ]
  },
  {
   "cell_type": "code",
   "execution_count": null,
   "id": "81f336d2-f3ad-45b7-9787-530bdc9cd43b",
   "metadata": {},
   "outputs": [],
   "source": [
    "#Q8\n",
    "import numpy as np\n",
    "mat = np.arange(1, 37).reshape(6, 6)\n",
    "print(\"Original:\\n\", mat)\n",
    "center = mat[2:5, 2:5]\n",
    "center[:, :] = 0\n",
    "print(\"Modified:\\n\", mat)"
   ]
  },
  {
   "cell_type": "code",
   "execution_count": null,
   "id": "57b5ae85-5d25-49bc-893e-bba3caf5cdff",
   "metadata": {},
   "outputs": [],
   "source": [
    "#Q9\n",
    "import numpy as np\n",
    "arr = np.array([5, 10, 15, 20, 25])\n",
    "result = np.where(arr > 15, 99, 0)\n",
    "print(\"Original:\", arr)\n",
    "print(\"Result:\", result)"
   ]
  },
  {
   "cell_type": "code",
   "execution_count": null,
   "id": "c0111f7d-258c-4bac-bac4-f81347917a19",
   "metadata": {},
   "outputs": [],
   "source": [
    "#Q10\n",
    "import numpy as np\n",
    "\n",
    "mat = np.full((4, 4), 10)\n",
    "row = np.array([0, 1, 2, 3])\n",
    "\n",
    "result = mat - row\n",
    "print(\"Original matrix:\\n\", mat)\n",
    "print(\"Row to subtract:\", row)\n",
    "print(\"Result:\\n\", result)"
   ]
  }
 ],
 "metadata": {
  "kernelspec": {
   "display_name": "Python [conda env:base] *",
   "language": "python",
   "name": "conda-base-py"
  },
  "language_info": {
   "codemirror_mode": {
    "name": "ipython",
    "version": 3
   },
   "file_extension": ".py",
   "mimetype": "text/x-python",
   "name": "python",
   "nbconvert_exporter": "python",
   "pygments_lexer": "ipython3",
   "version": "3.12.7"
  }
 },
 "nbformat": 4,
 "nbformat_minor": 5
}
